{
 "cells": [
  {
   "cell_type": "code",
   "execution_count": null,
   "id": "ebcb4bc4-1b43-4ac8-950a-85012f5afc9d",
   "metadata": {},
   "outputs": [
    {
     "name": "stdout",
     "output_type": "stream",
     "text": [
      "\n",
      "📊 Logistic Regression Report\n",
      "              precision    recall  f1-score   support\n",
      "\n",
      "           0       0.95      0.64      0.77     27393\n",
      "           1       0.17      0.69      0.27      2830\n",
      "\n",
      "    accuracy                           0.65     30223\n",
      "   macro avg       0.56      0.67      0.52     30223\n",
      "weighted avg       0.88      0.65      0.72     30223\n",
      "\n",
      "F1: 0.2688061441404375\n",
      "AUC-PR: 0.6675397070180809\n",
      "Confusion Matrix:\n",
      " [[17600  9793]\n",
      " [  870  1960]]\n",
      "\n",
      "📊 XGBoost Report\n",
      "              precision    recall  f1-score   support\n",
      "\n",
      "           0       0.95      1.00      0.97     27393\n",
      "           1       0.95      0.53      0.68      2830\n",
      "\n",
      "    accuracy                           0.95     30223\n",
      "   macro avg       0.95      0.76      0.83     30223\n",
      "weighted avg       0.95      0.95      0.95     30223\n",
      "\n",
      "F1: 0.6795279164775306\n",
      "AUC-PR: 0.7630456582818417\n",
      "Confusion Matrix:\n",
      " [[27314    79]\n",
      " [ 1333  1497]]\n",
      "✅ Best model saved to: ../outputs/models/best_fraud_model.pkl\n",
      "\n",
      "📊 Logistic Regression Report\n",
      "              precision    recall  f1-score   support\n",
      "\n",
      "           0       1.00      0.97      0.99     56651\n",
      "           1       0.05      0.87      0.10        95\n",
      "\n",
      "    accuracy                           0.97     56746\n",
      "   macro avg       0.53      0.92      0.54     56746\n",
      "weighted avg       1.00      0.97      0.99     56746\n",
      "\n",
      "F1: 0.09963985594237695\n",
      "AUC-PR: 0.9237090625984212\n",
      "Confusion Matrix:\n",
      " [[55163  1488]\n",
      " [   12    83]]\n",
      "\n",
      "📊 XGBoost Report\n",
      "              precision    recall  f1-score   support\n",
      "\n",
      "           0       1.00      1.00      1.00     56651\n",
      "           1       0.72      0.80      0.76        95\n",
      "\n",
      "    accuracy                           1.00     56746\n",
      "   macro avg       0.86      0.90      0.88     56746\n",
      "weighted avg       1.00      1.00      1.00     56746\n",
      "\n",
      "F1: 0.76\n",
      "AUC-PR: 0.8997440468835503\n",
      "Confusion Matrix:\n",
      " [[56622    29]\n",
      " [   19    76]]\n",
      "✅ Best model saved to: ../outputs/models/best_creditcard_model.pkl\n"
     ]
    }
   ],
   "source": [
    "# Model Training.\n",
    "import sys\n",
    "sys.path.append('../src')  \n",
    "\n",
    "from train_model import train_and_evaluate_models\n",
    "\n",
    "# Train on fraud data\n",
    "train_and_evaluate_models(\"../data/processed/fraud_preprocessed.pkl\", model_name=\"fraud\")\n",
    "\n",
    "# Train on creditcard data\n",
    "train_and_evaluate_models(\"../data/processed/creditcard_preprocessed.pkl\", model_name=\"creditcard\")\n"
   ]
  }
 ],
 "metadata": {
  "kernelspec": {
   "display_name": "Python 3 (ipykernel)",
   "language": "python",
   "name": "python3"
  },
  "language_info": {
   "codemirror_mode": {
    "name": "ipython",
    "version": 3
   },
   "file_extension": ".py",
   "mimetype": "text/x-python",
   "name": "python",
   "nbconvert_exporter": "python",
   "pygments_lexer": "ipython3",
   "version": "3.12.7"
  }
 },
 "nbformat": 4,
 "nbformat_minor": 5
}
