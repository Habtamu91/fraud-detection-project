{
 "cells": [
  {
   "cell_type": "code",
   "execution_count": 2,
   "id": "a792d2af-878a-40e0-b4a2-a27362485a65",
   "metadata": {},
   "outputs": [
    {
     "name": "stderr",
     "output_type": "stream",
     "text": [
      " 99%|===================| 29912/30223 [01:18<00:00]        "
     ]
    },
    {
     "name": "stdout",
     "output_type": "stream",
     "text": [
      "✅ SHAP summary plot saved to: ../outputs/shap/fraud_shap_summary.png\n"
     ]
    },
    {
     "name": "stderr",
     "output_type": "stream",
     "text": [
      "100%|===================| 56669/56746 [03:48<00:00]        "
     ]
    },
    {
     "name": "stdout",
     "output_type": "stream",
     "text": [
      "✅ SHAP summary plot saved to: ../outputs/shap/creditcard_shap_summary.png\n"
     ]
    }
   ],
   "source": [
    "import sys\n",
    "sys.path.append('../src')  \n",
    "\n",
    "from shap_analysis import explain_with_shap \n",
    "\n",
    "# Fraud SHAP\n",
    "explain_with_shap(\n",
    "    model_path=\"../outputs/models/best_fraud_model.pkl\",\n",
    "    data_path=\"../data/processed/fraud_preprocessed.pkl\",\n",
    "    output_image_path=\"../outputs/shap/fraud_shap_summary.png\"\n",
    ")\n",
    "\n",
    "# Credit Card SHAP\n",
    "explain_with_shap(\n",
    "    model_path=\"../outputs/models/best_creditcard_model.pkl\",\n",
    "    data_path=\"../data/processed/creditcard_preprocessed.pkl\",\n",
    "    output_image_path=\"../outputs/shap/creditcard_shap_summary.png\"\n",
    ")\n"
   ]
  }
 ],
 "metadata": {
  "kernelspec": {
   "display_name": "Python 3 (ipykernel)",
   "language": "python",
   "name": "python3"
  },
  "language_info": {
   "codemirror_mode": {
    "name": "ipython",
    "version": 3
   },
   "file_extension": ".py",
   "mimetype": "text/x-python",
   "name": "python",
   "nbconvert_exporter": "python",
   "pygments_lexer": "ipython3",
   "version": "3.12.7"
  }
 },
 "nbformat": 4,
 "nbformat_minor": 5
}
