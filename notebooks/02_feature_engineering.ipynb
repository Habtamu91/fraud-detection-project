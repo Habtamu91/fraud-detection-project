{
 "cells": [
  {
   "cell_type": "markdown",
   "id": "80b15990-6172-4006-8755-065f6d64ff3e",
   "metadata": {},
   "source": [
    "# 1. Load Preprocessing Function"
   ]
  },
  {
   "cell_type": "code",
   "execution_count": 1,
   "id": "d2e0bde3-01d3-4b4d-b579-47938cf000c7",
   "metadata": {},
   "outputs": [],
   "source": [
    "import sys\n",
    "sys.path.append('../src')\n",
    "from preprocessing import preprocess_fraud_data, preprocess_creditcard_data\n",
    "import joblib"
   ]
  },
  {
   "cell_type": "markdown",
   "id": "403094ae-7550-46e5-8c9a-dd00832541fb",
   "metadata": {},
   "source": [
    "# 2. Preprocess Fraud Datasets"
   ]
  },
  {
   "cell_type": "code",
   "execution_count": 2,
   "id": "177ff34a-04b0-40f0-87bd-e1611ec481ae",
   "metadata": {},
   "outputs": [
    {
     "name": "stdout",
     "output_type": "stream",
     "text": [
      "✅ Preprocessing complete!\n",
      "X_train shape: (219136, 21)\n",
      "y_train distribution:\n",
      " class\n",
      "0    109568\n",
      "1    109568\n",
      "Name: count, dtype: int64\n"
     ]
    }
   ],
   "source": [
    "X_train, X_test, y_train, y_test = preprocess_fraud_data(\"../data/processed/fraud_cleaned.csv\")\n",
    "\n",
    "print(\"✅ Preprocessing complete!\")\n",
    "print(\"X_train shape:\", X_train.shape)\n",
    "print(\"y_train distribution:\\n\", y_train.value_counts())\n"
   ]
  },
  {
   "cell_type": "markdown",
   "id": "4974c1f2-e953-4c3f-af60-e396a568f344",
   "metadata": {},
   "source": [
    "# 3. Save Processed Dataset"
   ]
  },
  {
   "cell_type": "markdown",
   "id": "89a34186-877f-4f81-952d-ef72e35c4c10",
   "metadata": {},
   "source": [
    "### For Fraud data"
   ]
  },
  {
   "cell_type": "code",
   "execution_count": 4,
   "id": "ee40de1d-1022-4a21-81fb-d69e629e9fb4",
   "metadata": {},
   "outputs": [
    {
     "data": {
      "text/plain": [
       "['../data/processed/fraud_preprocessed.pkl']"
      ]
     },
     "execution_count": 4,
     "metadata": {},
     "output_type": "execute_result"
    }
   ],
   "source": [
    "# Fraud\n",
    "X_train, X_test, y_train, y_test = preprocess_fraud_data(\"../data/processed/fraud_cleaned.csv\")\n",
    "joblib.dump((X_train, X_test, y_train, y_test), \"../data/processed/fraud_preprocessed.pkl\")\n"
   ]
  },
  {
   "cell_type": "markdown",
   "id": "84b20399-dbbd-42e7-b86e-296b3911a92b",
   "metadata": {},
   "source": [
    "### For Credit card data"
   ]
  },
  {
   "cell_type": "code",
   "execution_count": 3,
   "id": "e666307a-5f20-44a3-a8be-cee2c56cd5a7",
   "metadata": {},
   "outputs": [
    {
     "data": {
      "text/plain": [
       "['../data/processed/creditcard_preprocessed.pkl']"
      ]
     },
     "execution_count": 3,
     "metadata": {},
     "output_type": "execute_result"
    }
   ],
   "source": [
    "# Creditcard\n",
    "X_train, X_test, y_train, y_test = preprocess_creditcard_data(\"../data/processed/creditcard_cleaned.csv\")\n",
    "joblib.dump((X_train, X_test, y_train, y_test), \"../data/processed/creditcard_preprocessed.pkl\")\n"
   ]
  }
 ],
 "metadata": {
  "kernelspec": {
   "display_name": "Python 3 (ipykernel)",
   "language": "python",
   "name": "python3"
  },
  "language_info": {
   "codemirror_mode": {
    "name": "ipython",
    "version": 3
   },
   "file_extension": ".py",
   "mimetype": "text/x-python",
   "name": "python",
   "nbconvert_exporter": "python",
   "pygments_lexer": "ipython3",
   "version": "3.12.7"
  }
 },
 "nbformat": 4,
 "nbformat_minor": 5
}
